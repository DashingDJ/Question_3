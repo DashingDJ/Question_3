{
 "cells": [
  {
   "cell_type": "markdown",
   "metadata": {},
   "source": [
    "# Question 1\n",
    "Q1 Read csv File"
   ]
  },
  {
   "cell_type": "code",
   "execution_count": 1,
   "metadata": {},
   "outputs": [],
   "source": [
    "import pandas as pd"
   ]
  },
  {
   "cell_type": "code",
   "execution_count": 3,
   "metadata": {},
   "outputs": [
    {
     "name": "stdout",
     "output_type": "stream",
     "text": [
      "         name   age gender\n",
      "0      Yogesh    30      M\n",
      "1  Dhaneshlal    18      M\n",
      "2    Darshana    26      F\n",
      "3      Shobha    53      F\n",
      "4   Devichand    55      M\n",
      "5   Popoatlal    53      M\n",
      "6     Surekha    50      F\n",
      "7     Lilabai    86      F\n"
     ]
    }
   ],
   "source": [
    "df = pd.read_csv (r'C:\\Users\\dhane\\OneDrive\\Desktop\\readfile\\file1.csv')\n",
    "print (df)"
   ]
  },
  {
   "cell_type": "markdown",
   "metadata": {},
   "source": [
    "# Secound Method To Read CSV file"
   ]
  },
  {
   "cell_type": "code",
   "execution_count": 4,
   "metadata": {},
   "outputs": [],
   "source": [
    "import os"
   ]
  },
  {
   "cell_type": "code",
   "execution_count": 5,
   "metadata": {},
   "outputs": [],
   "source": [
    "with open(\"file1.csv\",\"r\") as f:\n",
    "    lines = f.readlines()"
   ]
  },
  {
   "cell_type": "code",
   "execution_count": 6,
   "metadata": {},
   "outputs": [
    {
     "name": "stdout",
     "output_type": "stream",
     "text": [
      "name, age,gender\n",
      "\n",
      "Yogesh,30,M\n",
      "\n",
      "Dhaneshlal,18,M\n",
      "\n",
      "Darshana,26,F\n",
      "\n",
      "Shobha,53,F\n",
      "\n",
      "Devichand,55,M\n",
      "\n",
      "Popoatlal,53,M\n",
      "\n",
      "Surekha,50,F\n",
      "\n",
      "Lilabai,86,F\n",
      "\n"
     ]
    }
   ],
   "source": [
    "for line in lines:\n",
    "    print(line)"
   ]
  },
  {
   "cell_type": "markdown",
   "metadata": {},
   "source": [
    "# Question 2"
   ]
  },
  {
   "cell_type": "code",
   "execution_count": 7,
   "metadata": {},
   "outputs": [
    {
     "name": "stdout",
     "output_type": "stream",
     "text": [
      "         name   age gender\n",
      "0      Yogesh    30      F\n",
      "1  Dhaneshlal    18      M\n",
      "2    Darshana    26      F\n",
      "3      Shobha    53      F\n",
      "4   Devichand    55      M\n",
      "5   Popoatlal    53      M\n",
      "6     Surekha    50      F\n",
      "7     Lilabai    86      F\n"
     ]
    }
   ],
   "source": [
    "df = pd.read_csv(r'C:\\Users\\dhane\\OneDrive\\Desktop\\readfile\\file2.csv')\n",
    "print (df)"
   ]
  },
  {
   "cell_type": "code",
   "execution_count": 8,
   "metadata": {
    "scrolled": true
   },
   "outputs": [
    {
     "name": "stdout",
     "output_type": "stream",
     "text": [
      "     name   age gender\n",
      "0  Yogesh    30      F\n"
     ]
    }
   ],
   "source": [
    "df = pd.read_csv(r'c:\\Users\\dhane\\OneDrive\\Desktop\\readfile\\file2.csv',nrows=1)\n",
    "print(df)"
   ]
  },
  {
   "cell_type": "code",
   "execution_count": 9,
   "metadata": {},
   "outputs": [
    {
     "data": {
      "text/plain": [
       "'F'"
      ]
     },
     "execution_count": 9,
     "metadata": {},
     "output_type": "execute_result"
    }
   ],
   "source": [
    "df[\"gender\"][0]"
   ]
  },
  {
   "cell_type": "code",
   "execution_count": 10,
   "metadata": {},
   "outputs": [],
   "source": [
    "import csv"
   ]
  },
  {
   "cell_type": "code",
   "execution_count": 11,
   "metadata": {},
   "outputs": [],
   "source": [
    "# CREATE AND WRITE IN CSV FILE USINF CODE\n",
    "with open ('mycsv.csv','w',newline='')as f:\n",
    "    thewriter =csv.writer(f)\n",
    "    thewriter.writerow(['Name','Age'])\n",
    "    thewriter.writerow(['Dhanesh','18'])\n",
    "    thewriter.writerow(['Yogesh','30'])\n",
    "    thewriter.writerow(['Rushab','17'])\n",
    "    thewriter.writerow(['Lilabai','86'])\n",
    "    thewriter.writerow(['Devichand','55'])\n",
    "    thewriter.writerow(['Popatlal','50'])\n",
    "    thewriter.writerow(['Surekha','47'])\n",
    "    thewriter.writerow(['Darshana','26'])\n",
    "    thewriter.writerow(['Darpan','28']) "
   ]
  },
  {
   "cell_type": "markdown",
   "metadata": {},
   "source": [
    "# Question  3 \n",
    " Using Arguments Function"
   ]
  },
  {
   "cell_type": "code",
   "execution_count": 1,
   "metadata": {},
   "outputs": [
    {
     "name": "stdout",
     "output_type": "stream",
     "text": [
      "Enter Your Namedhanesh\n",
      "Enter your Age18\n",
      "Enter your Gendermale\n",
      "Namedhanesh\n",
      "Age:18\n",
      "Gender:male\n"
     ]
    }
   ],
   "source": [
    "def Details():\n",
    "    name = input ('Enter Your Name')\n",
    "    age = input ('Enter your Age')\n",
    "    Gender = input ('Enter your Gender')\n",
    "    print(\"Name{}\\nAge:{}\\nGender:{}\".format(name,age,Gender))\n",
    "    \n",
    "Details()"
   ]
  },
  {
   "cell_type": "code",
   "execution_count": 2,
   "metadata": {},
   "outputs": [
    {
     "ename": "NameError",
     "evalue": "name 'myCsvRow' is not defined",
     "output_type": "error",
     "traceback": [
      "\u001b[1;31m---------------------------------------------------------------------------\u001b[0m",
      "\u001b[1;31mNameError\u001b[0m                                 Traceback (most recent call last)",
      "\u001b[1;32m<ipython-input-2-4ff2c2bf6d90>\u001b[0m in \u001b[0;36m<module>\u001b[1;34m\u001b[0m\n\u001b[0;32m      1\u001b[0m \u001b[1;32mwith\u001b[0m \u001b[0mopen\u001b[0m\u001b[1;33m(\u001b[0m\u001b[1;34m'file1.csv'\u001b[0m\u001b[1;33m,\u001b[0m\u001b[1;34m'a'\u001b[0m\u001b[1;33m)\u001b[0m \u001b[1;32mas\u001b[0m \u001b[0mfd\u001b[0m\u001b[1;33m:\u001b[0m\u001b[1;33m\u001b[0m\u001b[1;33m\u001b[0m\u001b[0m\n\u001b[1;32m----> 2\u001b[1;33m     \u001b[0mfd\u001b[0m\u001b[1;33m.\u001b[0m\u001b[0mwrite\u001b[0m\u001b[1;33m(\u001b[0m\u001b[0mmyCsvRow\u001b[0m\u001b[1;33m)\u001b[0m\u001b[1;33m\u001b[0m\u001b[1;33m\u001b[0m\u001b[0m\n\u001b[0m",
      "\u001b[1;31mNameError\u001b[0m: name 'myCsvRow' is not defined"
     ]
    }
   ],
   "source": [
    "with open('file1.csv','a') as fd:\n",
    "    fd.write(myCsvRow)"
   ]
  },
  {
   "cell_type": "code",
   "execution_count": null,
   "metadata": {},
   "outputs": [],
   "source": [
    "import csv   \n",
    "fields=['first','second','third']\n",
    "with open(r'name', 'a') as f:\n",
    "    writer = csv.writer(f)\n",
    "    writer.writerow(fields)"
   ]
  },
  {
   "cell_type": "code",
   "execution_count": null,
   "metadata": {},
   "outputs": [],
   "source": [
    "import csv\n",
    "\n",
    "with open(r'names.csv', 'a', newline='') as csvfile:\n",
    "    fieldnames = ['This','aNew']\n",
    "    writer = csv.DictWriter(csvfile, fieldnames=fieldnames)\n",
    "\n",
    "    writer.writerow({'This':'is', 'aNew':'Row'})"
   ]
  },
  {
   "cell_type": "code",
   "execution_count": null,
   "metadata": {},
   "outputs": [],
   "source": []
  }
 ],
 "metadata": {
  "kernelspec": {
   "display_name": "Python 3",
   "language": "python",
   "name": "python3"
  },
  "language_info": {
   "codemirror_mode": {
    "name": "ipython",
    "version": 3
   },
   "file_extension": ".py",
   "mimetype": "text/x-python",
   "name": "python",
   "nbconvert_exporter": "python",
   "pygments_lexer": "ipython3",
   "version": "3.8.5"
  }
 },
 "nbformat": 4,
 "nbformat_minor": 4
}
